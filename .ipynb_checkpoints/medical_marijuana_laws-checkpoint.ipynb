{
 "cells": [
  {
   "cell_type": "markdown",
   "id": "d9f05e87",
   "metadata": {},
   "source": [
    "# Application to the Demand for Cigarettes\n",
    "\n",
    "Why are we interested in knowing the elasticity of demand for cigarettes?\n",
    "1. Theory of optimal taxation: optimal tax is inverse to elasticity: smaller deadweight loss if quantity is affected less.\n",
    "2. Externalities of smoking – role for government intervention to discourage smoking\n",
    "- second-hand smoke (non-monetary)\n",
    "- monetary externalities\n",
    "\n",
    "## Panel data set\n",
    "- Annual cigarette consumption, average prices paid by end consumer (including tax), personal income\n",
    "- 48 continental US states, 1985-1995\n",
    "\n",
    "## Estimation strategy\n",
    "- Having panel data allows us to control for unobserved statelevel characteristics that enter the demand for cigarettes, as\n",
    "long as they don’t vary over time \n",
    "- But we still need to use IV estimation methods to handle the simultaneous causality bias that arises from the interaction of\n",
    "supply and demand.\n",
    "\n",
    "## Fixed-effects model of cigarette demand\n",
    "\\begin{equation}\n",
    "ln( Q_{it}^{cigarettes} ) = \\alpha_i + \\beta_1 ln( P_{it}^{cigarettes}  ) + \\beta_2 ln(Income_{it}) + u_{it}\n",
    "\\end{equation}\n",
    "\n",
    "- i = 1,…,48, t = 1985, 1986,…,1995\n",
    "- $\\alpha_i$ reflects unobserved omitted factors that vary across states but not over time, e.g. attitude towards smoking\n",
    "- Still, $corr(ln(P_{it}^{cigarettes}),u_{it})$ is plausibly nonzero because of supply/demand interactions\n",
    "\n",
    "Estimation strategy:\n",
    "- Use panel data regression methods to eliminate $\\alpha_i$\n",
    "\n",
    "## The “changes” method (when T=2)\n",
    "\n",
    "Rewrite the regression in “changes” form:\n",
    "\n",
    "\\begin{equation}\n",
    "ln(Q_{i1995}^{cigarettes}) - ln(Q_{i1985}^{cigarettes}) = \\beta_1 [ln(P_{i1995}^{cigarettes}) - ln(P_{i1985}^{cigarettes})] + \\beta_2[ln(Income_{i1995}) - ln(Income_{i1985})] + [u_{i1995} - u_{i1985}]\n",
    "\\end{equation}\n",
    "\n",
    "- Create “10-year change” variables, for example: 10-year change in log price\n",
    "- Then estimate the demand elasticity by TSLS using 10-year changes in the instrumental variables\n"
   ]
  },
  {
   "cell_type": "markdown",
   "id": "a7bcaf5b",
   "metadata": {},
   "source": [
    "## Empirical Exercise in Stata\n",
    "\n",
    "Note: This material is based on the [Companion Website for Stock and Watson's Introduction to Econometrics](https://wps.pearsoned.com/aw_stock_ie_3/178/45691/11696959.cw/index.html).\n",
    "\n",
    "### Set Stata Magic in Python"
   ]
  },
  {
   "cell_type": "code",
   "execution_count": 1,
   "id": "5f472f33",
   "metadata": {},
   "outputs": [],
   "source": [
    "%%capture\n",
    "import os\n",
    "os.chdir('/Program Files/Stata17/utilities')\n",
    "from pystata import config\n",
    "config.init('se')"
   ]
  },
  {
   "cell_type": "markdown",
   "id": "48a65a5d",
   "metadata": {},
   "source": [
    "### Import Data from Web"
   ]
  },
  {
   "cell_type": "code",
   "execution_count": 2,
   "id": "e7f43188",
   "metadata": {
    "scrolled": true
   },
   "outputs": [
    {
     "name": "stdout",
     "output_type": "stream",
     "text": [
      "\n",
      ". * Open Stata file from web page book\n",
      ". use https://wps.pearsoned.com/wps/media/objects/11422/11696965/datasets3e/dat\n",
      "> asets/cig_ch12.dta, clear\n",
      "\n",
      ". \n"
     ]
    }
   ],
   "source": [
    "%%stata\n",
    "* Import data\n",
    "import delimited \"C:\\Users\\edloaeza\\Documents\\GitHub\\Marijuana\\pnas.1903434116.sd01.csv\""
   ]
  },
  {
   "cell_type": "code",
   "execution_count": 3,
   "id": "3b43a116",
   "metadata": {},
   "outputs": [
    {
     "name": "stdout",
     "output_type": "stream",
     "text": [
      "\n",
      "Contains data from https://wps.pearsoned.com/wps/media/objects/11422/11696965/d\n",
      "> atasets3e/datasets/cig_ch12.dta\n",
      " Observations:            96                  \n",
      "    Variables:             9                  29 Dec 2010 20:03\n",
      "-------------------------------------------------------------------------------\n",
      "Variable      Storage   Display    Value\n",
      "    name         type    format    label      Variable label\n",
      "-------------------------------------------------------------------------------\n",
      "state           str9    %9s                   \n",
      "year            float   %9.0g                 \n",
      "cpi             float   %9.0g                 \n",
      "pop             float   %9.0g               * population from RAs before 1990;\n",
      "                                                from web for 1990-2000\n",
      "packpc          float   %9.0g                 packs per capita = packs/pop\n",
      "income          float   %9.0g                 state personal income (total,\n",
      "                                                nominal)\n",
      "tax             float   %9.0g                 average state, federal, and\n",
      "                                                average local excise taxes for\n",
      "                                                fiscal year\n",
      "avgprs          float   %9.0g                 average price during fiscal year,\n",
      "                                                including sales taxes\n",
      "taxs            float   %9.0g                 average excise taxes for fiscal\n",
      "                                                year, including sales taxes\n",
      "                                            * indicated variables have notes\n",
      "-------------------------------------------------------------------------------\n",
      "Sorted by: year  state\n"
     ]
    }
   ],
   "source": [
    "%%stata\n",
    "des"
   ]
  },
  {
   "cell_type": "markdown",
   "id": "d2db03bd",
   "metadata": {},
   "source": [
    "### Create initial variables"
   ]
  },
  {
   "cell_type": "code",
   "execution_count": 4,
   "id": "96ef20f7",
   "metadata": {},
   "outputs": [
    {
     "name": "stdout",
     "output_type": "stream",
     "text": [
      "\n",
      ". sort state year\n",
      "\n",
      ". \n",
      ". * Generate variables\n",
      ". gen ravgprs = avgprs/cpi\n",
      "\n",
      ".  label var ravgpr \"real average price during fiscal year, including sales tax\n",
      "> es\"\n",
      "\n",
      ". gen rtax = tax/cpi\n",
      "\n",
      ".  label var rtax \"real average Cig specifice tax during fiscal year\"\n",
      "\n",
      ". gen rtaxs = taxs/cpi\n",
      "\n",
      ".  label var rtaxs \"real average total tax during fiscal year,including sales t\n",
      "> axes\"\n",
      "\n",
      ". gen rtaxso = rtaxs-rtax\n",
      "\n",
      ".  label var rtaxso \"real average sales tax per pack during fiscal year\"\n",
      "\n",
      ". gen lpackpc = log(packpc)\n",
      "\n",
      ". gen lravgprs = log(ravgprs)\n",
      "\n",
      ". \n",
      ". * Real Percapita State Income \n",
      ". gen perinc = income/(pop*cpi)\n",
      "\n",
      ". gen lperinc = log(perinc)\n",
      "\n",
      ". encode state, gen(snum)\n",
      "\n",
      ". \n",
      ". * Create “10-year change” variables\n",
      ". g dlpackpc = log(packpc/packpc[_n-1])\n",
      "(1 missing value generated)\n",
      "\n",
      ". g dlavgprs = log(avgprs/avgprs[_n-1])\n",
      "(1 missing value generated)\n",
      "\n",
      ". g dlperinc = log(perinc/perinc[_n-1])\n",
      "(1 missing value generated)\n",
      "\n",
      ". g drtaxs = rtaxs-rtaxs[_n-1]\n",
      "(1 missing value generated)\n",
      "\n",
      ". g drtax = rtax-rtax[_n-1]\n",
      "(1 missing value generated)\n",
      "\n",
      ". g drtaxso = rtaxso-rtaxso[_n-1]\n",
      "(1 missing value generated)\n",
      "\n",
      ". \n"
     ]
    }
   ],
   "source": [
    "%%stata\n",
    "sort state year\n",
    "\n",
    "* Generate variables\n",
    "gen ravgprs = avgprs/cpi\n",
    " label var ravgpr \"real average price during fiscal year, including sales taxes\"\n",
    "gen rtax = tax/cpi\n",
    " label var rtax \"real average Cig specifice tax during fiscal year\"\n",
    "gen rtaxs = taxs/cpi\n",
    " label var rtaxs \"real average total tax during fiscal year,including sales taxes\"\n",
    "gen rtaxso = rtaxs-rtax\n",
    " label var rtaxso \"real average sales tax per pack during fiscal year\"\n",
    "gen lpackpc = log(packpc)\n",
    "gen lravgprs = log(ravgprs)\n",
    "\n",
    "* Real Percapita State Income \n",
    "gen perinc = income/(pop*cpi)\n",
    "gen lperinc = log(perinc)\n",
    "encode state, gen(snum)\n",
    "\n",
    "* Create “10-year change” variables\n",
    "g dlpackpc = log(packpc/packpc[_n-1])\n",
    "g dlavgprs = log(avgprs/avgprs[_n-1])\n",
    "g dlperinc = log(perinc/perinc[_n-1])\n",
    "g drtaxs = rtaxs-rtaxs[_n-1]\n",
    "g drtax = rtax-rtax[_n-1]\n",
    "g drtaxso = rtaxso-rtaxso[_n-1]"
   ]
  },
  {
   "cell_type": "markdown",
   "id": "6927de93",
   "metadata": {},
   "source": [
    "### Use TSLS to estimate the demand elasticity by using the “10-year changes” specification"
   ]
  },
  {
   "cell_type": "code",
   "execution_count": 5,
   "id": "e4d486e3",
   "metadata": {},
   "outputs": [
    {
     "name": "stdout",
     "output_type": "stream",
     "text": [
      "\n",
      ". eststo clear\n",
      "\n",
      ". ivregress 2sls dlpackpc dlperinc (dlavgprs = drtaxso) if year==1995, r\n",
      "\n",
      "Instrumental variables 2SLS regression            Number of obs   =         48\n",
      "                                                  Wald chi2(2)    =      26.26\n",
      "                                                  Prob > chi2     =     0.0000\n",
      "                                                  R-squared       =     0.5499\n",
      "                                                  Root MSE        =     .08803\n",
      "\n",
      "------------------------------------------------------------------------------\n",
      "             |               Robust\n",
      "    dlpackpc | Coefficient  std. err.      z    P>|z|     [95% conf. interval]\n",
      "-------------+----------------------------------------------------------------\n",
      "    dlavgprs |  -.9380143   .2009132    -4.67   0.000    -1.331797   -.5442317\n",
      "    dlperinc |   .5259693   .3287138     1.60   0.110     -.118298    1.170237\n",
      "       _cons |   .2085492   .1260941     1.65   0.098    -.0385906     .455689\n",
      "------------------------------------------------------------------------------\n",
      "Instrumented: dlavgprs\n",
      " Instruments: dlperinc drtaxso\n",
      "\n",
      ". est store IV1\n",
      "\n",
      ". qui: estat firststage\n",
      "\n",
      ". qui: mat fstat = r(singleresults)\n",
      "\n",
      ". qui: estadd scalar fs = fstat[1,4]\n",
      "\n",
      ". qui: estadd local IV \"Sales Tax\", replace\n",
      "\n",
      ". \n"
     ]
    }
   ],
   "source": [
    "%%stata\n",
    "eststo clear\n",
    "ivregress 2sls dlpackpc dlperinc (dlavgprs = drtaxso) if year==1995, r\n",
    "est store IV1\n",
    "qui: estat firststage\n",
    "qui: mat fstat = r(singleresults)\n",
    "qui: estadd scalar fs = fstat[1,4]\n",
    "qui: estadd local IV \"Sales Tax\", replace"
   ]
  },
  {
   "cell_type": "markdown",
   "id": "5964f85a",
   "metadata": {},
   "source": [
    "### Check instrument relevance: compute first-stage F"
   ]
  },
  {
   "cell_type": "code",
   "execution_count": 6,
   "id": "963bb828",
   "metadata": {},
   "outputs": [
    {
     "name": "stdout",
     "output_type": "stream",
     "text": [
      "\n",
      ". reg dlavgprs drtaxso dlperinc if year==1995, r\n",
      "\n",
      "Linear regression                               Number of obs     =         48\n",
      "                                                F(2, 45)          =      16.84\n",
      "                                                Prob > F          =     0.0000\n",
      "                                                R-squared         =     0.5146\n",
      "                                                Root MSE          =     .06334\n",
      "\n",
      "------------------------------------------------------------------------------\n",
      "             |               Robust\n",
      "    dlavgprs | Coefficient  std. err.      t    P>|t|     [95% conf. interval]\n",
      "-------------+----------------------------------------------------------------\n",
      "     drtaxso |   .0254611   .0043876     5.80   0.000      .016624    .0342982\n",
      "    dlperinc |  -.2241037   .2188815    -1.02   0.311    -.6649536    .2167463\n",
      "       _cons |   .5321948   .0295315    18.02   0.000     .4727153    .5916742\n",
      "------------------------------------------------------------------------------\n",
      "\n",
      ". test drtaxso\n",
      "\n",
      " ( 1)  drtaxso = 0\n",
      "\n",
      "       F(  1,    45) =   33.67\n",
      "            Prob > F =    0.0000\n",
      "\n",
      ". \n"
     ]
    }
   ],
   "source": [
    "%%stata\n",
    "reg dlavgprs drtaxso dlperinc if year==1995, r\n",
    "test drtaxso"
   ]
  },
  {
   "cell_type": "markdown",
   "id": "5171cadd",
   "metadata": {},
   "source": [
    "First stage F = 33.7 > 10 so instrument is not weak\n",
    "\n",
    "Can we check instrument exogeneity? No: $m = k$"
   ]
  },
  {
   "cell_type": "code",
   "execution_count": 7,
   "id": "d2dadad7",
   "metadata": {},
   "outputs": [
    {
     "name": "stdout",
     "output_type": "stream",
     "text": [
      "\n",
      ". ivregress 2sls dlpackpc dlperinc (dlavgprs = drtax) if year==1995, r\n",
      "\n",
      "Instrumental variables 2SLS regression            Number of obs   =         48\n",
      "                                                  Wald chi2(2)    =      43.88\n",
      "                                                  Prob > chi2     =     0.0000\n",
      "                                                  R-squared       =     0.5197\n",
      "                                                  Root MSE        =     .09094\n",
      "\n",
      "------------------------------------------------------------------------------\n",
      "             |               Robust\n",
      "    dlpackpc | Coefficient  std. err.      z    P>|z|     [95% conf. interval]\n",
      "-------------+----------------------------------------------------------------\n",
      "    dlavgprs |  -1.342515   .2213997    -6.06   0.000     -1.77645   -.9085793\n",
      "    dlperinc |   .4281457   .2892323     1.48   0.139    -.1387391    .9950305\n",
      "       _cons |   .4502643   .1347968     3.34   0.001     .1860674    .7144613\n",
      "------------------------------------------------------------------------------\n",
      "Instrumented: dlavgprs\n",
      " Instruments: dlperinc drtax\n",
      "\n",
      ". est store IV2\n",
      "\n",
      ". qui: estat firststage\n",
      "\n",
      ". qui: mat fstat = r(singleresults)\n",
      "\n",
      ". qui: estadd scalar fs = fstat[1,4]\n",
      "\n",
      ". qui: estadd local IV \"Cig. specific tax\", replace\n",
      "\n",
      ". \n"
     ]
    }
   ],
   "source": [
    "%%stata\n",
    "ivregress 2sls dlpackpc dlperinc (dlavgprs = drtax) if year==1995, r\n",
    "est store IV2\n",
    "qui: estat firststage\n",
    "qui: mat fstat = r(singleresults)\n",
    "qui: estadd scalar fs = fstat[1,4]\n",
    "qui: estadd local IV \"Cig. specific tax\", replace"
   ]
  },
  {
   "cell_type": "markdown",
   "id": "28a846d3",
   "metadata": {},
   "source": [
    "### What about two instruments?\n",
    "#### Check instrument relevance: compute first stage F"
   ]
  },
  {
   "cell_type": "code",
   "execution_count": 8,
   "id": "28c7ea18",
   "metadata": {},
   "outputs": [
    {
     "name": "stdout",
     "output_type": "stream",
     "text": [
      "\n",
      ". reg dlavgprs drtaxso drtax dlperinc if year==1995, r\n",
      "\n",
      "Linear regression                               Number of obs     =         48\n",
      "                                                F(3, 44)          =      66.68\n",
      "                                                Prob > F          =     0.0000\n",
      "                                                R-squared         =     0.7779\n",
      "                                                Root MSE          =     .04333\n",
      "\n",
      "------------------------------------------------------------------------------\n",
      "             |               Robust\n",
      "    dlavgprs | Coefficient  std. err.      t    P>|t|     [95% conf. interval]\n",
      "-------------+----------------------------------------------------------------\n",
      "     drtaxso |    .013457   .0031405     4.28   0.000     .0071277    .0197863\n",
      "       drtax |   .0075734   .0008859     8.55   0.000     .0057879    .0093588\n",
      "    dlperinc |  -.0289943   .1242309    -0.23   0.817    -.2793654    .2213767\n",
      "       _cons |   .4919733   .0183233    26.85   0.000     .4550451    .5289015\n",
      "------------------------------------------------------------------------------\n",
      "\n",
      ". test drtaxso drtax\n",
      "\n",
      " ( 1)  drtaxso = 0\n",
      " ( 2)  drtax = 0\n",
      "\n",
      "       F(  2,    44) =   88.62\n",
      "            Prob > F =    0.0000\n",
      "\n",
      ". \n"
     ]
    }
   ],
   "source": [
    "%%stata\n",
    "reg dlavgprs drtaxso drtax dlperinc if year==1995, r\n",
    "test drtaxso drtax"
   ]
  },
  {
   "cell_type": "markdown",
   "id": "7bc703f3",
   "metadata": {},
   "source": [
    "88.62 > 10 so instruments aren’t weak"
   ]
  },
  {
   "cell_type": "markdown",
   "id": "ab25c188",
   "metadata": {},
   "source": [
    "### What about two instruments (cig-only tax, sales tax)?"
   ]
  },
  {
   "cell_type": "code",
   "execution_count": 9,
   "id": "90c2bf9b",
   "metadata": {},
   "outputs": [
    {
     "name": "stdout",
     "output_type": "stream",
     "text": [
      "\n",
      ". ivregress 2sls dlpackpc dlperinc (dlavgprs = drtaxso drtax) if year==1995, r\n",
      "\n",
      "Instrumental variables 2SLS regression            Number of obs   =         48\n",
      "                                                  Wald chi2(2)    =      45.44\n",
      "                                                  Prob > chi2     =     0.0000\n",
      "                                                  R-squared       =     0.5466\n",
      "                                                  Root MSE        =     .08836\n",
      "\n",
      "------------------------------------------------------------------------------\n",
      "             |               Robust\n",
      "    dlpackpc | Coefficient  std. err.      z    P>|z|     [95% conf. interval]\n",
      "-------------+----------------------------------------------------------------\n",
      "    dlavgprs |  -1.202403   .1906896    -6.31   0.000    -1.576148   -.8286588\n",
      "    dlperinc |   .4620299   .2995177     1.54   0.123    -.1250139    1.049074\n",
      "       _cons |   .3665388   .1180414     3.11   0.002     .1351819    .5978957\n",
      "------------------------------------------------------------------------------\n",
      "Instrumented: dlavgprs\n",
      " Instruments: dlperinc drtaxso drtax\n",
      "\n",
      ". est store IV3\n",
      "\n",
      ". qui: estat firststage\n",
      "\n",
      ". mat fstat = r(singleresults)\n",
      "\n",
      ". \n"
     ]
    }
   ],
   "source": [
    "%%stata\n",
    "ivregress 2sls dlpackpc dlperinc (dlavgprs = drtaxso drtax) if year==1995, r\n",
    "est store IV3\n",
    "qui: estat firststage\n",
    "mat fstat = r(singleresults)"
   ]
  },
  {
   "cell_type": "markdown",
   "id": "294d6174",
   "metadata": {},
   "source": [
    "With m>k, we can test the overidentifying restrictions…\n",
    "\n",
    "### Test the overidentifying restrictions"
   ]
  },
  {
   "cell_type": "code",
   "execution_count": 10,
   "id": "edebc969",
   "metadata": {},
   "outputs": [
    {
     "name": "stdout",
     "output_type": "stream",
     "text": [
      "\n",
      ". predict e, resid\n",
      "(1 missing value generated)\n",
      "\n",
      ". reg e drtaxso drtax dlperinc if year==1995\n",
      "\n",
      "      Source |       SS           df       MS      Number of obs   =        48\n",
      "-------------+----------------------------------   F(3, 44)        =      1.64\n",
      "       Model |  .037769176         3  .012589725   Prob > F        =    0.1929\n",
      "    Residual |  .336952289        44  .007658007   R-squared       =    0.1008\n",
      "-------------+----------------------------------   Adj R-squared   =    0.0395\n",
      "       Total |  .374721465        47  .007972797   Root MSE        =    .08751\n",
      "\n",
      "------------------------------------------------------------------------------\n",
      "           e | Coefficient  Std. err.      t    P>|t|     [95% conf. interval]\n",
      "-------------+----------------------------------------------------------------\n",
      "     drtaxso |   .0127669   .0061587     2.07   0.044      .000355    .0251789\n",
      "       drtax |  -.0038077   .0021179    -1.80   0.079     -.008076    .0004607\n",
      "    dlperinc |  -.0934062   .2978459    -0.31   0.755    -.6936752    .5068627\n",
      "       _cons |    .002939   .0446131     0.07   0.948    -.0869728    .0928509\n",
      "------------------------------------------------------------------------------\n",
      "\n",
      ". test drtaxso drtax\n",
      "\n",
      " ( 1)  drtaxso = 0\n",
      " ( 2)  drtax = 0\n",
      "\n",
      "       F(  2,    44) =    2.47\n",
      "            Prob > F =    0.0966\n",
      "\n",
      ". \n"
     ]
    }
   ],
   "source": [
    "%%stata\n",
    "predict e, resid\n",
    "reg e drtaxso drtax dlperinc if year==1995\n",
    "test drtaxso drtax"
   ]
  },
  {
   "cell_type": "markdown",
   "id": "a35cafb8",
   "metadata": {},
   "source": [
    "#### Compute J-statistic, which is m*F, where F tests whether coefficients on the instruments are zero so"
   ]
  },
  {
   "cell_type": "code",
   "execution_count": 11,
   "id": "83eeb4ee",
   "metadata": {},
   "outputs": [
    {
     "name": "stdout",
     "output_type": "stream",
     "text": [
      "\n",
      ". dis \"OverID stat:\" r(df)*r(F)\n",
      "OverID stat:4.9319853\n",
      "\n",
      ". dis \"p-value:\"  chiprob(r(df)-1,r(df)*r(F))\n",
      "p-value:.02636401\n",
      "\n",
      ". \n"
     ]
    }
   ],
   "source": [
    "%%stata\n",
    "dis \"OverID stat:\" r(df)*r(F)\n",
    "dis \"p-value:\"  chiprob(r(df)-1,r(df)*r(F))"
   ]
  },
  {
   "cell_type": "markdown",
   "id": "04200743",
   "metadata": {},
   "source": [
    "## The correct degrees of freedom for the J-statistic is m–k:\n",
    "$J = mF$\n",
    "\n",
    "where $F$ = the F-statistic testing the coefficients on $Z_{1i},…,Z_{mi}$ in a regression of the TSLS residuals against $Z_{1i},…,Z_{mi}, W_{1i},…,W_{mi}$.\n",
    "- Under the null hypothesis that all the instruments are exogeneous, $J$ has a chi-squared distribution with $m–k$ degrees\n",
    "of freedom\n",
    "- Here, $J = 4.93$, distributed chi-squared with d.f. = 1; the 5\\% critical value is 3.84, so reject at 5\\% sig. level.\n",
    "\n",
    "## Tabular summary of these results:"
   ]
  },
  {
   "cell_type": "code",
   "execution_count": 12,
   "id": "607577a3",
   "metadata": {},
   "outputs": [
    {
     "name": "stdout",
     "output_type": "stream",
     "text": [
      "\n",
      ". esttab IV1 IV2 IV3, label se star(* 0.10 ** 0.05 *** 0.01) ///\n",
      "> title(2SLS Estimates of the Demand of Cigarrets Using Panel Data for States i\n",
      "> n USA) ///\n",
      "> stats(IV fs Jtest pvalue N, ///\n",
      "> label(\"Instr. Variables\" \"F-statistic\" \"J-test\" \"P-value\" \"Observations\"))\n",
      "\n",
      "2SLS Estimates of the Demand of Cigarrets Using Panel Data for States in USA\n",
      "--------------------------------------------------------------------\n",
      "                              (1)             (2)             (3)   \n",
      "                         dlpackpc        dlpackpc        dlpackpc   \n",
      "--------------------------------------------------------------------\n",
      "dlavgprs                   -0.938***       -1.343***       -1.202***\n",
      "                          (0.201)         (0.221)         (0.191)   \n",
      "\n",
      "dlperinc                    0.526           0.428           0.462   \n",
      "                          (0.329)         (0.289)         (0.300)   \n",
      "\n",
      "Constant                    0.209*          0.450***        0.367***\n",
      "                          (0.126)         (0.135)         (0.118)   \n",
      "--------------------------------------------------------------------\n",
      "Instr. Variables        Sales Tax    Cig. specific tax                   \n",
      "F-statistic                 33.67           107.2                   \n",
      "J-test                                                              \n",
      "P-value                                                             \n",
      "Observations                   48              48              48   \n",
      "--------------------------------------------------------------------\n",
      "Standard errors in parentheses\n",
      "* p<0.10, ** p<0.05, *** p<0.01\n",
      "\n",
      ". \n"
     ]
    }
   ],
   "source": [
    "%%stata\n",
    "esttab IV1 IV2 IV3, label se star(* 0.10 ** 0.05 *** 0.01) ///\n",
    "title(2SLS Estimates of the Demand of Cigarrets Using Panel Data for States in USA) ///\n",
    "stats(IV fs Jtest pvalue N, ///\n",
    "label(\"Instr. Variables\" \"F-statistic\" \"J-test\" \"P-value\" \"Observations\"))"
   ]
  },
  {
   "cell_type": "markdown",
   "id": "b11ab626",
   "metadata": {},
   "source": [
    "## How should we interpret the J-test rejection?\n",
    "\n",
    "- J-test rejects the null hypothesis that both the instruments are exogenous\n",
    "- This means that either rtaxso is endogenous, or rtax is endogenous, or both\n",
    "- The J-test doesn’t tell us which!! You must exercise judgment…\n",
    "- Why might rtax (cig-only tax) be endogenous?\n",
    " - People become health conscious: fewer smokers and political pressure for high cigarette taxes\n",
    " - If so, cig-only tax is endogenous\n",
    "- This reasoning doesn’t apply to general sales tax\n",
    "- ⇒ use just one instrument, the general sales tax\n",
    "\n",
    "## The Demand for Cigarettes: Summary of Empirical Results\n",
    "\n",
    "- Use the estimated elasticity based on TSLS with the general sales tax as the only instrument:\n",
    " - Elasticity = -.94, SE = .21\n",
    "- This elasticity is surprisingly large (not inelastic) \n",
    "    – a 1\\% increase in prices reduces cigarette sales by nearly 1\\%. \n",
    "    This is much more elastic than conventional wisdom in the health economics literature.\n",
    "- Why?\n",
    "- This is a long-run (ten-year change) elasticity.\n",
    "- What would you expect a short-run (one-year change) elasticity to be – more or less elastic?\n",
    "\n",
    "## Summary: IV Regression\n",
    "- A valid instrument lets us isolate a part of X that is uncorrelated with u, and that part can be used to estimate the effect of a change in X on Y\n",
    "- IV regression hinges on having valid instruments:\n",
    "1. Relevance: check via first-stage F\n",
    "2. Exogeneity: Test overidentifying restrictions via the J-statistic"
   ]
  }
 ],
 "metadata": {
  "kernelspec": {
   "display_name": "Python 3 (ipykernel)",
   "language": "python",
   "name": "python3"
  },
  "language_info": {
   "codemirror_mode": {
    "name": "ipython",
    "version": 3
   },
   "file_extension": ".py",
   "mimetype": "text/x-python",
   "name": "python",
   "nbconvert_exporter": "python",
   "pygments_lexer": "ipython3",
   "version": "3.9.7"
  }
 },
 "nbformat": 4,
 "nbformat_minor": 5
}
