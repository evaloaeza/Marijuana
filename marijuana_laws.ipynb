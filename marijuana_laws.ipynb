{
 "cells": [
  {
   "cell_type": "markdown",
   "id": "d9f05e87",
   "metadata": {},
   "source": [
    "# Replicating medical cannabis laws and opioid overdose mortality study\n",
    "\n",
    "[Bachhuber et al. (2014)](https://jamanetwork.com/journals/jamainternalmedicine/fullarticle/1898878) found that from 1999 to 2010 states with medical cannabis laws experienced slower increases in opioid analgesic overdose mortality.\n",
    "\n",
    "[Shover et al. (2019)](https://www.pnas.org/doi/suppl/10.1073/pnas.1903434116#executive-summary-abstract) extend Bachhuber et al.’s analysis through 2017. They find that results from the original analysis do not hold over the longer period, and the association between state medical cannabis laws and opioid overdose mortality reversed direction from −21% to +23% and remained positive after accounting for recreational cannabis laws."
   ]
  },
  {
   "cell_type": "markdown",
   "id": "a7bcaf5b",
   "metadata": {},
   "source": [
    "## Empirical Exercise in Stata\n",
    "\n",
    "Note: The data used in the original article is public.\n",
    "\n",
    "### Set Stata Magic in Python"
   ]
  },
  {
   "cell_type": "code",
   "execution_count": 10,
   "id": "5f472f33",
   "metadata": {},
   "outputs": [],
   "source": [
    "%%capture\n",
    "import os\n",
    "os.chdir('/Program Files/Stata17/utilities')\n",
    "from pystata import config\n",
    "config.init('se')"
   ]
  },
  {
   "cell_type": "markdown",
   "id": "48a65a5d",
   "metadata": {},
   "source": [
    "### Import Data from Web"
   ]
  },
  {
   "cell_type": "code",
   "execution_count": 15,
   "id": "e7f43188",
   "metadata": {
    "scrolled": true
   },
   "outputs": [
    {
     "name": "stdout",
     "output_type": "stream",
     "text": [
      "\n",
      ". * Import data\n",
      ".  import delimited \"C:\\Users\\edloaeza\\Documents\\GitHub\\Marijuana\\pnas.19034341\n",
      "> 16.sd01.csv\", clear\n",
      "(encoding automatically selected: ISO-8859-1)\n",
      "(25 vars, 947 obs)\n",
      "\n",
      ". \n"
     ]
    }
   ],
   "source": [
    "%%stata\n",
    "* Import data\n",
    " import delimited \"C:\\Users\\edloaeza\\Documents\\GitHub\\Marijuana\\pnas.1903434116.sd01.csv\", clear"
   ]
  },
  {
   "cell_type": "code",
   "execution_count": 16,
   "id": "3b43a116",
   "metadata": {},
   "outputs": [
    {
     "name": "stdout",
     "output_type": "stream",
     "text": [
      "\n",
      "Contains data\n",
      " Observations:           947                  \n",
      "    Variables:            25                  \n",
      "-------------------------------------------------------------------------------\n",
      "Variable      Storage   Display    Value\n",
      "    name         type    format    label      Variable label\n",
      "-------------------------------------------------------------------------------\n",
      "state           str14   %14s                  \n",
      "year            int     %8.0g                 Year\n",
      "deaths          int     %8.0g                 Deaths\n",
      "population      long    %12.0g                Population\n",
      "crude_rate      float   %9.0g                 Crude_Rate\n",
      "age_adjusted_~e float   %9.0g                 Age_Adjusted_Rate\n",
      "ag~wer_95__conf float   %9.0g                 Age_Adjusted_Rate_Lower_95__Conf\n",
      "ag~per_95__conf float   %9.0g                 Age_Adjusted_Rate_Upper_95__Conf\n",
      "ln_crude_mort~e float   %9.0g                 \n",
      "crude_rate_lo~e float   %9.0g                 Crude_Rate_Lower_95__Confidence\n",
      "crude_rate_up~e float   %9.0g                 Crude_Rate_Upper_95__Confidence\n",
      "crude_rate_st~r float   %9.0g                 Crude_Rate_Standard_Error\n",
      "age_adjusted_~r float   %9.0g                 Age_Adjusted_Rate_Standard_Error\n",
      "medical_canna~w float   %9.0g                 Medical_Cannabis_Law\n",
      "unemployment    float   %9.0g                 \n",
      "rxdmp_original  float   %9.0g                 \n",
      "pmlaw_update    byte    %8.0g                 \n",
      "rxid_original   byte    %8.0g                 \n",
      "pmlaw_original  byte    %8.0g                 \n",
      "ln_age_mort_r~e float   %9.0g                 \n",
      "rxdmp_update    byte    %8.0g                 \n",
      "rxid_update     byte    %8.0g                 \n",
      "low_thc         float   %9.0g                 \n",
      "recreational_~w float   %9.0g                 \n",
      "comprehensive~s float   %9.0g                 \n",
      "-------------------------------------------------------------------------------\n",
      "Sorted by: \n",
      "     Note: Dataset has changed since last saved.\n"
     ]
    }
   ],
   "source": [
    "%%stata\n",
    "des"
   ]
  },
  {
   "cell_type": "markdown",
   "id": "d2db03bd",
   "metadata": {},
   "source": [
    "### Create initial variables"
   ]
  },
  {
   "cell_type": "code",
   "execution_count": 17,
   "id": "96ef20f7",
   "metadata": {},
   "outputs": [
    {
     "name": "stdout",
     "output_type": "stream",
     "text": [
      "\n",
      ". sort state year\n",
      "\n",
      ". egen state_id=group( state)\n",
      "\n",
      ". xtset state_id year\n",
      "\n",
      "Panel variable: state_id (unbalanced)\n",
      " Time variable: year, 1999 to 2017, but with a gap\n",
      "         Delta: 1 unit\n",
      "\n",
      ". \n"
     ]
    }
   ],
   "source": [
    "%%stata\n",
    "sort state year\n",
    "egen state_id=group( state)\n",
    "xtset state_id year\n"
   ]
  },
  {
   "cell_type": "markdown",
   "id": "6927de93",
   "metadata": {},
   "source": [
    "### Estimates for the original 1999–2010 time period"
   ]
  },
  {
   "cell_type": "code",
   "execution_count": 25,
   "id": "e4d486e3",
   "metadata": {},
   "outputs": [
    {
     "name": "stdout",
     "output_type": "stream",
     "text": [
      "\n",
      ". gl origcontrols unemployment rxdmp_original rxid_original pmlaw_original\n",
      "\n",
      ". eststo clear\n",
      "\n",
      ". reghdfe ln_age_mort_rate medical_cannabis_law $origcontrols if year<=2010, a(\n",
      "> state_id year) vce(r)\n",
      "(MWFE estimator converged in 5 iterations)\n",
      "\n",
      "HDFE Linear regression                            Number of obs   =        575\n",
      "Absorbing 2 HDFE groups                           F(   5,    509) =       3.77\n",
      "                                                  Prob > F        =     0.0023\n",
      "                                                  R-squared       =     0.8665\n",
      "                                                  Adj R-squared   =     0.8494\n",
      "                                                  Within R-sq.    =     0.0342\n",
      "                                                  Root MSE        =     0.2914\n",
      "\n",
      "------------------------------------------------------------------------------\n",
      "             |               Robust\n",
      "ln_age_mor~e | Coefficient  std. err.      t    P>|t|     [95% conf. interval]\n",
      "-------------+----------------------------------------------------------------\n",
      "medical_ca~w |  -.2365052   .0732441    -3.23   0.001    -.3804031   -.0926072\n",
      "unemployment |   .0429635   .0176795     2.43   0.015     .0082298    .0776972\n",
      "rxdmp_orig~l |  -.0285738     .04978    -0.57   0.566    -.1263733    .0692257\n",
      "rxid_origi~l |   .0278744   .0527092     0.53   0.597      -.07568    .1314288\n",
      "pmlaw_orig~l |  -.0716299   .1000528    -0.72   0.474    -.2681972    .1249375\n",
      "       _cons |   .9906536    .093019    10.65   0.000     .8079051    1.173402\n",
      "------------------------------------------------------------------------------\n",
      "\n",
      "Absorbed degrees of freedom:\n",
      "-----------------------------------------------------+\n",
      " Absorbed FE | Categories  - Redundant  = Num. Coefs |\n",
      "-------------+---------------------------------------|\n",
      "    state_id |        50           0          50     |\n",
      "        year |        12           1          11     |\n",
      "-----------------------------------------------------+\n",
      "\n",
      ". est store reg1\n",
      "\n",
      ". esttab reg1\n",
      "\n",
      "----------------------------\n",
      "                      (1)   \n",
      "             ln_age_mor~e   \n",
      "----------------------------\n",
      "medical_ca~w       -0.237** \n",
      "                  (-3.23)   \n",
      "\n",
      "unemployment       0.0430*  \n",
      "                   (2.43)   \n",
      "\n",
      "rxdmp_orig~l      -0.0286   \n",
      "                  (-0.57)   \n",
      "\n",
      "rxid_origi~l       0.0279   \n",
      "                   (0.53)   \n",
      "\n",
      "pmlaw_orig~l      -0.0716   \n",
      "                  (-0.72)   \n",
      "\n",
      "_cons               0.991***\n",
      "                  (10.65)   \n",
      "----------------------------\n",
      "N                     575   \n",
      "----------------------------\n",
      "t statistics in parentheses\n",
      "* p<0.05, ** p<0.01, *** p<0.001\n",
      "\n",
      ". \n"
     ]
    }
   ],
   "source": [
    "%%stata\n",
    "gl origcontrols unemployment rxdmp_original rxid_original pmlaw_original\n",
    "eststo clear\n",
    "reghdfe ln_age_mort_rate medical_cannabis_law $origcontrols if year<=2010, a(state_id year) vce(r)\n",
    "est store reg1\n",
    "esttab reg1"
   ]
  },
  {
   "cell_type": "markdown",
   "id": "5964f85a",
   "metadata": {},
   "source": [
    "### Using the full 1999–2017 dataset"
   ]
  },
  {
   "cell_type": "code",
   "execution_count": 26,
   "id": "963bb828",
   "metadata": {},
   "outputs": [
    {
     "name": "stdout",
     "output_type": "stream",
     "text": [
      "\n",
      ". gl controls unemployment rxdmp_update pmlaw_update rxid_update\n",
      "\n",
      ". eststo clear\n",
      "\n",
      ". reghdfe ln_age_mort_rate medical_cannabis_law $controls, a(state_id year) vce\n",
      "> (r)\n",
      "(MWFE estimator converged in 5 iterations)\n",
      "\n",
      "HDFE Linear regression                            Number of obs   =        908\n",
      "Absorbing 2 HDFE groups                           F(   5,    835) =       6.94\n",
      "                                                  Prob > F        =     0.0000\n",
      "                                                  R-squared       =     0.8169\n",
      "                                                  Adj R-squared   =     0.8012\n",
      "                                                  Within R-sq.    =     0.0422\n",
      "                                                  Root MSE        =     0.3516\n",
      "\n",
      "------------------------------------------------------------------------------\n",
      "             |               Robust\n",
      "ln_age_mor~e | Coefficient  std. err.      t    P>|t|     [95% conf. interval]\n",
      "-------------+----------------------------------------------------------------\n",
      "medical_ca~w |   .1936879   .0564088     3.43   0.001     .0829681    .3044076\n",
      "unemployment |   .0174086   .0151754     1.15   0.252    -.0123779     .047195\n",
      "rxdmp_update |  -.1254081   .0381713    -3.29   0.001    -.2003311   -.0504851\n",
      "pmlaw_update |   .0277369   .0563149     0.49   0.622    -.0827986    .1382723\n",
      " rxid_update |   .1455531   .0459043     3.17   0.002     .0554518    .2356544\n",
      "       _cons |   1.273512   .0873188    14.58   0.000     1.102122    1.444903\n",
      "------------------------------------------------------------------------------\n",
      "\n",
      "Absorbed degrees of freedom:\n",
      "-----------------------------------------------------+\n",
      " Absorbed FE | Categories  - Redundant  = Num. Coefs |\n",
      "-------------+---------------------------------------|\n",
      "    state_id |        50           0          50     |\n",
      "        year |        19           1          18     |\n",
      "-----------------------------------------------------+\n",
      "\n",
      ". est store reg2\n",
      "\n",
      ". esttab reg2\n",
      "\n",
      "----------------------------\n",
      "                      (1)   \n",
      "             ln_age_mor~e   \n",
      "----------------------------\n",
      "medical_ca~w        0.194***\n",
      "                   (3.43)   \n",
      "\n",
      "unemployment       0.0174   \n",
      "                   (1.15)   \n",
      "\n",
      "rxdmp_update       -0.125** \n",
      "                  (-3.29)   \n",
      "\n",
      "pmlaw_update       0.0277   \n",
      "                   (0.49)   \n",
      "\n",
      "rxid_update         0.146** \n",
      "                   (3.17)   \n",
      "\n",
      "_cons               1.274***\n",
      "                  (14.58)   \n",
      "----------------------------\n",
      "N                     908   \n",
      "----------------------------\n",
      "t statistics in parentheses\n",
      "* p<0.05, ** p<0.01, *** p<0.001\n",
      "\n",
      ". \n"
     ]
    }
   ],
   "source": [
    "%%stata\n",
    "gl controls unemployment rxdmp_update pmlaw_update rxid_update\n",
    "eststo clear\n",
    "reghdfe ln_age_mort_rate medical_cannabis_law $controls, a(state_id year) vce(r)\n",
    "est store reg2\n",
    "esttab reg2"
   ]
  },
  {
   "cell_type": "code",
   "execution_count": 12,
   "id": "607577a3",
   "metadata": {},
   "outputs": [
    {
     "name": "stdout",
     "output_type": "stream",
     "text": [
      "\n",
      ". esttab IV1 IV2 IV3, label se star(* 0.10 ** 0.05 *** 0.01) ///\n",
      "> title(2SLS Estimates of the Demand of Cigarrets Using Panel Data for States i\n",
      "> n USA) ///\n",
      "> stats(IV fs Jtest pvalue N, ///\n",
      "> label(\"Instr. Variables\" \"F-statistic\" \"J-test\" \"P-value\" \"Observations\"))\n",
      "\n",
      "2SLS Estimates of the Demand of Cigarrets Using Panel Data for States in USA\n",
      "--------------------------------------------------------------------\n",
      "                              (1)             (2)             (3)   \n",
      "                         dlpackpc        dlpackpc        dlpackpc   \n",
      "--------------------------------------------------------------------\n",
      "dlavgprs                   -0.938***       -1.343***       -1.202***\n",
      "                          (0.201)         (0.221)         (0.191)   \n",
      "\n",
      "dlperinc                    0.526           0.428           0.462   \n",
      "                          (0.329)         (0.289)         (0.300)   \n",
      "\n",
      "Constant                    0.209*          0.450***        0.367***\n",
      "                          (0.126)         (0.135)         (0.118)   \n",
      "--------------------------------------------------------------------\n",
      "Instr. Variables        Sales Tax    Cig. specific tax                   \n",
      "F-statistic                 33.67           107.2                   \n",
      "J-test                                                              \n",
      "P-value                                                             \n",
      "Observations                   48              48              48   \n",
      "--------------------------------------------------------------------\n",
      "Standard errors in parentheses\n",
      "* p<0.10, ** p<0.05, *** p<0.01\n",
      "\n",
      ". \n"
     ]
    }
   ],
   "source": [
    "%%stata\n",
    "esttab IV1 IV2 IV3, label se star(* 0.10 ** 0.05 *** 0.01) ///\n",
    "title(2SLS Estimates of the Demand of Cigarrets Using Panel Data for States in USA) ///\n",
    "stats(IV fs Jtest pvalue N, ///\n",
    "label(\"Instr. Variables\" \"F-statistic\" \"J-test\" \"P-value\" \"Observations\"))"
   ]
  }
 ],
 "metadata": {
  "kernelspec": {
   "display_name": "Python 3 (ipykernel)",
   "language": "python",
   "name": "python3"
  },
  "language_info": {
   "codemirror_mode": {
    "name": "ipython",
    "version": 3
   },
   "file_extension": ".py",
   "mimetype": "text/x-python",
   "name": "python",
   "nbconvert_exporter": "python",
   "pygments_lexer": "ipython3",
   "version": "3.9.7"
  }
 },
 "nbformat": 4,
 "nbformat_minor": 5
}
