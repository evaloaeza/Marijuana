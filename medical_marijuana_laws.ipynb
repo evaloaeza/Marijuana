{
 "cells": [
  {
   "cell_type": "markdown",
   "id": "d9f05e87",
   "metadata": {},
   "source": [
    "# Replicating medical cannabis laws and opioid overdose mortality study\n",
    "\n",
    "[Bachhuber et al. (2014)](https://jamanetwork.com/journals/jamainternalmedicine/fullarticle/1898878) found that from 1999 to 2010 states with medical cannabis laws experienced slower increases in opioid analgesic overdose mortality.\n",
    "\n",
    "[Shover et al. (2019)](https://www.pnas.org/doi/suppl/10.1073/pnas.1903434116#executive-summary-abstract) extend Bachhuber et al.’s analysis through 2017. They find that results from the original analysis do not hold over the longer period, and the association between state medical cannabis laws and opioid overdose mortality reversed direction from −21% to +23% and remained positive after accounting for recreational cannabis laws."
   ]
  },
  {
   "cell_type": "markdown",
   "id": "a7bcaf5b",
   "metadata": {},
   "source": [
    "## Empirical Exercise in Stata\n",
    "\n",
    "Note: The data used in the original article is public.\n",
    "\n",
    "### Set Stata Magic in Python"
   ]
  },
  {
   "cell_type": "code",
   "execution_count": 15,
   "id": "5f472f33",
   "metadata": {},
   "outputs": [],
   "source": [
    "%%capture\n",
    "import os\n",
    "os.chdir('/Program Files/Stata17/utilities')\n",
    "from pystata import config\n",
    "config.init('se')"
   ]
  },
  {
   "cell_type": "markdown",
   "id": "48a65a5d",
   "metadata": {},
   "source": [
    "### Import Data from Web"
   ]
  },
  {
   "cell_type": "code",
   "execution_count": 28,
   "id": "e7f43188",
   "metadata": {
    "scrolled": true
   },
   "outputs": [
    {
     "name": "stdout",
     "output_type": "stream",
     "text": [
      "\n",
      ". gl data \"C:\\Users\\edloaeza\\Documents\\GitHub\\Marijuana\"\n",
      "\n",
      ". * Import data\n",
      ".  import delimited \"$data\\pnas.1903434116.sd01.csv\", clear\n",
      "(encoding automatically selected: ISO-8859-1)\n",
      "(25 vars, 947 obs)\n",
      "\n",
      ". \n"
     ]
    }
   ],
   "source": [
    "%%stata\n",
    "gl data \"C:\\Users\\edloaeza\\Documents\\GitHub\\Marijuana\"\n",
    "* Import data\n",
    " import delimited \"$data\\pnas.1903434116.sd01.csv\", clear"
   ]
  },
  {
   "cell_type": "code",
   "execution_count": 30,
   "id": "3b43a116",
   "metadata": {},
   "outputs": [
    {
     "name": "stdout",
     "output_type": "stream",
     "text": [
      "\n",
      "Contains data\n",
      " Observations:           947                  \n",
      "    Variables:            36                  \n",
      "-------------------------------------------------------------------------------\n",
      "Variable      Storage   Display    Value\n",
      "    name         type    format    label      Variable label\n",
      "-------------------------------------------------------------------------------\n",
      "state_name      str24   %24s                  \n",
      "year            float   %8.0g                 Year\n",
      "deaths          int     %8.0g                 Deaths\n",
      "population      long    %12.0g                Population\n",
      "crude_rate      float   %9.0g                 Crude_Rate\n",
      "age_adjusted_~e float   %9.0g                 Age_Adjusted_Rate\n",
      "ag~wer_95__conf float   %9.0g                 Age_Adjusted_Rate_Lower_95__Conf\n",
      "ag~per_95__conf float   %9.0g                 Age_Adjusted_Rate_Upper_95__Conf\n",
      "ln_crude_mort~e float   %9.0g                 \n",
      "crude_rate_lo~e float   %9.0g                 Crude_Rate_Lower_95__Confidence\n",
      "crude_rate_up~e float   %9.0g                 Crude_Rate_Upper_95__Confidence\n",
      "crude_rate_st~r float   %9.0g                 Crude_Rate_Standard_Error\n",
      "age_adjusted_~r float   %9.0g                 Age_Adjusted_Rate_Standard_Error\n",
      "medical_canna~w float   %9.0g                 Medical_Cannabis_Law\n",
      "unemployment    float   %9.0g                 \n",
      "rxdmp_original  float   %9.0g                 \n",
      "pmlaw_update    byte    %8.0g                 \n",
      "rxid_original   byte    %8.0g                 \n",
      "pmlaw_original  byte    %8.0g                 \n",
      "ln_age_mort_r~e float   %9.0g                 \n",
      "rxdmp_update    byte    %8.0g                 \n",
      "rxid_update     byte    %8.0g                 \n",
      "low_thc         float   %9.0g                 \n",
      "recreational_~w float   %9.0g                 \n",
      "comprehensive~s float   %9.0g                 \n",
      "state_abbr      str6    %9s                   Postal Code\n",
      "state_fips      byte    %8.0g                 FIPS\n",
      "medmj_fraction  float   %9.0g                 Fraction of year: Medical\n",
      "                                                marijuana law effective\n",
      "recmj_fraction  float   %9.0g                 Fraction of year: Recreational\n",
      "                                                marijuana law effective\n",
      "dispMED_fract~n float   %9.0g                 Fraction of year: Medical\n",
      "                                                marijuana dispensaries legally\n",
      "                                                protected and known to\n",
      "dispREC_fract~n float   %9.0g                 Fraction of year: Recreational\n",
      "                                                marijuana dispensaries open\n",
      "date_effMML     float   %td                   Date (MDY) medical marijuana law\n",
      "                                                became effective\n",
      "date_effREC     float   %td                   Date (MDY) recreational marijuana\n",
      "                                                law became effective\n",
      "date_meddisp_~g float   %td                   Date (MDY) medical marijuana\n",
      "                                                dispensary law became effective\n",
      "date_active_m~p float   %td                   Date (MDY) when the first medical\n",
      "                                                marijuana dispensary is legally\n",
      "                                                protected and\n",
      "date_active_d~C float   %td                   Date (MDY) when the first\n",
      "                                                recreational marjuana\n",
      "                                                dispensary store in state\n",
      "                                                opened\n",
      "-------------------------------------------------------------------------------\n",
      "Sorted by: state_fips  year\n",
      "     Note: Dataset has changed since last saved.\n"
     ]
    }
   ],
   "source": [
    "%%stata\n",
    "des"
   ]
  },
  {
   "cell_type": "markdown",
   "id": "d2db03bd",
   "metadata": {},
   "source": [
    "### Create initial variables"
   ]
  },
  {
   "cell_type": "code",
   "execution_count": 29,
   "id": "96ef20f7",
   "metadata": {},
   "outputs": [
    {
     "name": "stdout",
     "output_type": "stream",
     "text": [
      "\n",
      ". ren state state_name\n",
      "\n",
      ". merge m:1 state_name using \"$data\\state_names_codes.dta\", keepus(state_abbr s\n",
      "> tate_fips) ///\n",
      ">     keep(match master) nogen\n",
      "(variable state_name was str14, now str24 to accommodate using data's values)\n",
      "\n",
      "    Result                      Number of obs\n",
      "    -----------------------------------------\n",
      "    Not matched                             0\n",
      "    Matched                               947  \n",
      "    -----------------------------------------\n",
      "\n",
      ". ren state_abbr state\n",
      "\n",
      ". \n",
      ". * Bring dates of legalization\n",
      ". merge 1:1 state year using \"$data\\Medical Marijuana Policy Data\\WEB_MJ Policy\n",
      "> .dta\", ///\n",
      ">     keep(match master) nogen\n",
      "(variable state was str2, now str6 to accommodate using data's values)\n",
      "(variable year was int, now float to accommodate using data's values)\n",
      "\n",
      "    Result                      Number of obs\n",
      "    -----------------------------------------\n",
      "    Not matched                             0\n",
      "    Matched                               947  \n",
      "    -----------------------------------------\n",
      "\n",
      ". ren state state_abbr\n",
      "\n",
      ". \n",
      ". sort state_fips year\n",
      "\n",
      ". xtset state_fips year\n",
      "\n",
      "Panel variable: state_fips (unbalanced)\n",
      " Time variable: year, 1999 to 2017, but with a gap\n",
      "         Delta: 1 unit\n",
      "\n",
      ". \n"
     ]
    }
   ],
   "source": [
    "%%stata\n",
    "ren state state_name\n",
    "merge m:1 state_name using \"$data\\state_names_codes.dta\", keepus(state_abbr state_fips) ///\n",
    "    keep(match master) nogen\n",
    "ren state_abbr state\n",
    "\n",
    "* Bring dates of legalization\n",
    "merge 1:1 state year using \"$data\\Medical Marijuana Policy Data\\WEB_MJ Policy.dta\", ///\n",
    "    keep(match master) nogen\n",
    "ren state state_abbr\n",
    "\n",
    "sort state_fips year\n",
    "xtset state_fips year"
   ]
  },
  {
   "cell_type": "markdown",
   "id": "6927de93",
   "metadata": {},
   "source": [
    "### Estimates for the original 1999–2010 time period"
   ]
  },
  {
   "cell_type": "code",
   "execution_count": 10,
   "id": "e4d486e3",
   "metadata": {},
   "outputs": [
    {
     "name": "stdout",
     "output_type": "stream",
     "text": [
      "\n",
      ". gl origcontrols unemployment rxdmp_original rxid_original pmlaw_original\n",
      "\n",
      ". eststo clear\n",
      "\n",
      ". reghdfe ln_age_mort_rate medical_cannabis_law $origcontrols if year<=2010, a(\n",
      "> state_id year) vce(r)\n",
      "(MWFE estimator converged in 5 iterations)\n",
      "\n",
      "HDFE Linear regression                            Number of obs   =        575\n",
      "Absorbing 2 HDFE groups                           F(   5,    509) =       3.77\n",
      "                                                  Prob > F        =     0.0023\n",
      "                                                  R-squared       =     0.8665\n",
      "                                                  Adj R-squared   =     0.8494\n",
      "                                                  Within R-sq.    =     0.0342\n",
      "                                                  Root MSE        =     0.2914\n",
      "\n",
      "------------------------------------------------------------------------------\n",
      "             |               Robust\n",
      "ln_age_mor~e | Coefficient  std. err.      t    P>|t|     [95% conf. interval]\n",
      "-------------+----------------------------------------------------------------\n",
      "medical_ca~w |  -.2365052   .0732441    -3.23   0.001    -.3804031   -.0926072\n",
      "unemployment |   .0429635   .0176795     2.43   0.015     .0082298    .0776972\n",
      "rxdmp_orig~l |  -.0285738     .04978    -0.57   0.566    -.1263733    .0692257\n",
      "rxid_origi~l |   .0278744   .0527092     0.53   0.597      -.07568    .1314288\n",
      "pmlaw_orig~l |  -.0716299   .1000528    -0.72   0.474    -.2681972    .1249375\n",
      "       _cons |   .9906536    .093019    10.65   0.000     .8079051    1.173402\n",
      "------------------------------------------------------------------------------\n",
      "\n",
      "Absorbed degrees of freedom:\n",
      "-----------------------------------------------------+\n",
      " Absorbed FE | Categories  - Redundant  = Num. Coefs |\n",
      "-------------+---------------------------------------|\n",
      "    state_id |        50           0          50     |\n",
      "        year |        12           1          11     |\n",
      "-----------------------------------------------------+\n",
      "\n",
      ". est store reg1\n",
      "\n",
      ". qui: estadd local t \"1999-2010\", replace\n",
      "\n",
      ". \n"
     ]
    }
   ],
   "source": [
    "%%stata\n",
    "gl origcontrols unemployment rxdmp_original rxid_original pmlaw_original\n",
    "eststo clear\n",
    "reghdfe ln_age_mort_rate medical_cannabis_law $origcontrols if year<=2010, a(state_id year) vce(r)\n",
    "est store reg1\n",
    "qui: estadd local t \"1999-2010\", replace"
   ]
  },
  {
   "cell_type": "markdown",
   "id": "5964f85a",
   "metadata": {},
   "source": [
    "### Using the full 1999–2017 dataset"
   ]
  },
  {
   "cell_type": "code",
   "execution_count": 11,
   "id": "963bb828",
   "metadata": {},
   "outputs": [
    {
     "name": "stdout",
     "output_type": "stream",
     "text": [
      "\n",
      ". gl controls unemployment rxdmp_update pmlaw_update rxid_update\n",
      "\n",
      ". eststo clear\n",
      "\n",
      ". reghdfe ln_age_mort_rate medical_cannabis_law $controls, a(state_id year) vce\n",
      "> (r)\n",
      "(MWFE estimator converged in 5 iterations)\n",
      "\n",
      "HDFE Linear regression                            Number of obs   =        908\n",
      "Absorbing 2 HDFE groups                           F(   5,    835) =       6.94\n",
      "                                                  Prob > F        =     0.0000\n",
      "                                                  R-squared       =     0.8169\n",
      "                                                  Adj R-squared   =     0.8012\n",
      "                                                  Within R-sq.    =     0.0422\n",
      "                                                  Root MSE        =     0.3516\n",
      "\n",
      "------------------------------------------------------------------------------\n",
      "             |               Robust\n",
      "ln_age_mor~e | Coefficient  std. err.      t    P>|t|     [95% conf. interval]\n",
      "-------------+----------------------------------------------------------------\n",
      "medical_ca~w |   .1936879   .0564088     3.43   0.001     .0829681    .3044076\n",
      "unemployment |   .0174086   .0151754     1.15   0.252    -.0123779     .047195\n",
      "rxdmp_update |  -.1254081   .0381713    -3.29   0.001    -.2003311   -.0504851\n",
      "pmlaw_update |   .0277369   .0563149     0.49   0.622    -.0827986    .1382723\n",
      " rxid_update |   .1455531   .0459043     3.17   0.002     .0554518    .2356544\n",
      "       _cons |   1.273512   .0873188    14.58   0.000     1.102122    1.444903\n",
      "------------------------------------------------------------------------------\n",
      "\n",
      "Absorbed degrees of freedom:\n",
      "-----------------------------------------------------+\n",
      " Absorbed FE | Categories  - Redundant  = Num. Coefs |\n",
      "-------------+---------------------------------------|\n",
      "    state_id |        50           0          50     |\n",
      "        year |        19           1          18     |\n",
      "-----------------------------------------------------+\n",
      "\n",
      ". est store reg2\n",
      "\n",
      ". qui: estadd local t \"1999-2017\", replace\n",
      "\n",
      ". \n"
     ]
    }
   ],
   "source": [
    "%%stata\n",
    "gl controls unemployment rxdmp_update pmlaw_update rxid_update\n",
    "eststo clear\n",
    "reghdfe ln_age_mort_rate medical_cannabis_law $controls, a(state_id year) vce(r)\n",
    "est store reg2\n",
    "qui: estadd local t \"1999-2017\", replace"
   ]
  },
  {
   "cell_type": "code",
   "execution_count": 12,
   "id": "607577a3",
   "metadata": {},
   "outputs": [
    {
     "name": "stdout",
     "output_type": "stream",
     "text": [
      "\n",
      ". esttab reg1 reg2, label se star(* 0.10 ** 0.05 *** 0.01) ///\n",
      "> title(\"Age-adjusted opioid overdose death rate per 100,000 population\") ///\n",
      "> stats(t N, ///\n",
      "> label(\"Period \"\"Observations\"))\n",
      "\n",
      "Age-adjusted opioid overdose death rate per 100,000 population\n",
      "----------------------------------------------------\n",
      "                              (1)             (2)   \n",
      "                     ln_age_mor~e    ln_age_mor~e   \n",
      "----------------------------------------------------\n",
      "Medical_Cannabis_Law       -0.237***        0.194***\n",
      "                         (0.0732)        (0.0564)   \n",
      "\n",
      "unemployment               0.0430**        0.0174   \n",
      "                         (0.0177)        (0.0152)   \n",
      "\n",
      "rxdmp_original            -0.0286                   \n",
      "                         (0.0498)                   \n",
      "\n",
      "rxid_original              0.0279                   \n",
      "                         (0.0527)                   \n",
      "\n",
      "pmlaw_original            -0.0716                   \n",
      "                          (0.100)                   \n",
      "\n",
      "rxdmp_update                               -0.125***\n",
      "                                         (0.0382)   \n",
      "\n",
      "pmlaw_update                               0.0277   \n",
      "                                         (0.0563)   \n",
      "\n",
      "rxid_update                                 0.146***\n",
      "                                         (0.0459)   \n",
      "\n",
      "Constant                    0.991***        1.274***\n",
      "                         (0.0930)        (0.0873)   \n",
      "----------------------------------------------------\n",
      "Period                  1999-2010       1999-2017   \n",
      "Observations                  575             908   \n",
      "----------------------------------------------------\n",
      "Standard errors in parentheses\n",
      "* p<0.10, ** p<0.05, *** p<0.01\n",
      "\n",
      ". \n"
     ]
    }
   ],
   "source": [
    "%%stata\n",
    "esttab reg1 reg2, label se star(* 0.10 ** 0.05 *** 0.01) ///\n",
    "title(\"Age-adjusted opioid overdose death rate per 100,000 population\") ///\n",
    "stats(t N, ///\n",
    "label(\"Period \"\"Observations\"))"
   ]
  },
  {
   "cell_type": "code",
   "execution_count": 13,
   "id": "223cf4c0",
   "metadata": {},
   "outputs": [
    {
     "name": "stdout",
     "output_type": "stream",
     "text": [
      "\n",
      ". egen withlaw=max( medical_cannabis_law), by(state_id)\n",
      "\n",
      ". gen nolaw= withlaw==0\n",
      "\n",
      ". collapse (mean) age_adjusted_rate, by(year nolaw)\n",
      "\n",
      ". reshape wide age_adjusted_rate, i(year) j( nolaw)\n",
      "(j = 0 1)\n",
      "\n",
      "Data                               Long   ->   Wide\n",
      "-----------------------------------------------------------------------------\n",
      "Number of observations               38   ->   19          \n",
      "Number of variables                   3   ->   3           \n",
      "j variable (2 values)             nolaw   ->   (dropped)\n",
      "xij variables:\n",
      "                      age_adjusted_rate   ->   age_adjusted_rate0 age_adjusted_\n",
      "> rate1\n",
      "-----------------------------------------------------------------------------\n",
      "\n",
      ". tsline age_adjusted_rate0 if year<=2010 || tsline age_adjusted_rate1 if year<\n",
      "> =2010\n",
      "\n",
      ". \n"
     ]
    },
    {
     "data": {
      "image/svg+xml": [
       "<svg xmlns=\"http://www.w3.org/2000/svg\" xmlns:xlink=\"http://www.w3.org/1999/xlink\" version=\"1.1\" width=\"528px\" height=\"384px\" viewBox=\"0 0 3960 2880\">\n",
       "\t<desc>Stata Graph - Graph</desc>\n",
       "\t<rect x=\"0\" y=\"0\" width=\"3960\" height=\"2880\" style=\"fill:#EAF2F3;stroke:none\"/>\n",
       "\t<rect x=\"0.00\" y=\"0.00\" width=\"3959.88\" height=\"2880.00\" style=\"fill:#EAF2F3\"/>\n",
       "\t<rect x=\"2.88\" y=\"2.88\" width=\"3954.12\" height=\"2874.24\" style=\"fill:none;stroke:#EAF2F3;stroke-width:5.76\"/>\n",
       "\t<rect x=\"290.81\" y=\"100.86\" width=\"3568.21\" height=\"2132.77\" style=\"fill:#FFFFFF\"/>\n",
       "\t<rect x=\"293.69\" y=\"103.74\" width=\"3562.45\" height=\"2127.01\" style=\"fill:none;stroke:#FFFFFF;stroke-width:5.76\"/>\n",
       "\t<line x1=\"290.81\" y1=\"2170.27\" x2=\"3859.02\" y2=\"2170.27\" style=\"stroke:#EAF2F3;stroke-width:8.64\"/>\n",
       "\t<line x1=\"290.81\" y1=\"1668.82\" x2=\"3859.02\" y2=\"1668.82\" style=\"stroke:#EAF2F3;stroke-width:8.64\"/>\n",
       "\t<line x1=\"290.81\" y1=\"1167.25\" x2=\"3859.02\" y2=\"1167.25\" style=\"stroke:#EAF2F3;stroke-width:8.64\"/>\n",
       "\t<line x1=\"290.81\" y1=\"665.67\" x2=\"3859.02\" y2=\"665.67\" style=\"stroke:#EAF2F3;stroke-width:8.64\"/>\n",
       "\t<path d=\" M354.05 1720.43 L667.01 1648.77 L979.85 1544.70 L1292.69 1374.66 L1605.53 1222.19 L1918.50 1121.95 L2231.34 1030.62 L2544.18 775.94 L2857.02 692.65 L3169.86 624.21 L3482.82 616.17 L3795.66 495.39\" stroke-linejoin=\"round\" style=\"fill:none;stroke:#1A476F;stroke-width:8.64\"/>\n",
       "\t<path d=\" M354.05 1869.43 L667.01 1886.13 L979.85 1675.13 L1292.69 1612.39 L1605.53 1459.92 L1918.50 1455.72 L2231.34 1403.00 L2544.18 1292.73 L2857.02 1255.11 L3169.86 1413.02 L3482.82 1242.49 L3795.66 1277.63\" stroke-linejoin=\"round\" style=\"fill:none;stroke:#90353B;stroke-width:8.64\"/>\n",
       "\t<line x1=\"290.81\" y1=\"2233.63\" x2=\"290.81\" y2=\"100.86\" style=\"stroke:#000000;stroke-width:5.76\"/>\n",
       "\t<line x1=\"290.81\" y1=\"2170.27\" x2=\"250.84\" y2=\"2170.27\" style=\"stroke:#000000;stroke-width:5.76\"/>\n",
       "\t<text x=\"200.73\" y=\"2170.27\" style=\"font-family:'Helvetica';font-size:99.99px;fill:#000000\" transform=\"rotate(-90 200.73,2170.27)\" text-anchor=\"middle\">0</text>\n",
       "\t<line x1=\"290.81\" y1=\"1668.82\" x2=\"250.84\" y2=\"1668.82\" style=\"stroke:#000000;stroke-width:5.76\"/>\n",
       "\t<text x=\"200.73\" y=\"1668.82\" style=\"font-family:'Helvetica';font-size:99.99px;fill:#000000\" transform=\"rotate(-90 200.73,1668.82)\" text-anchor=\"middle\">2</text>\n",
       "\t<line x1=\"290.81\" y1=\"1167.25\" x2=\"250.84\" y2=\"1167.25\" style=\"stroke:#000000;stroke-width:5.76\"/>\n",
       "\t<text x=\"200.73\" y=\"1167.25\" style=\"font-family:'Helvetica';font-size:99.99px;fill:#000000\" transform=\"rotate(-90 200.73,1167.25)\" text-anchor=\"middle\">4</text>\n",
       "\t<line x1=\"290.81\" y1=\"665.67\" x2=\"250.84\" y2=\"665.67\" style=\"stroke:#000000;stroke-width:5.76\"/>\n",
       "\t<text x=\"200.73\" y=\"665.67\" style=\"font-family:'Helvetica';font-size:99.99px;fill:#000000\" transform=\"rotate(-90 200.73,665.67)\" text-anchor=\"middle\">6</text>\n",
       "\t<line x1=\"290.81\" y1=\"164.22\" x2=\"250.84\" y2=\"164.22\" style=\"stroke:#000000;stroke-width:5.76\"/>\n",
       "\t<text x=\"200.73\" y=\"164.22\" style=\"font-family:'Helvetica';font-size:99.99px;fill:#000000\" transform=\"rotate(-90 200.73,164.22)\" text-anchor=\"middle\">8</text>\n",
       "\t<line x1=\"290.81\" y1=\"2233.63\" x2=\"3859.02\" y2=\"2233.63\" style=\"stroke:#000000;stroke-width:5.76\"/>\n",
       "\t<line x1=\"667.01\" y1=\"2233.63\" x2=\"667.01\" y2=\"2273.73\" style=\"stroke:#000000;stroke-width:5.76\"/>\n",
       "\t<text x=\"667.01\" y=\"2363.59\" style=\"font-family:'Helvetica';font-size:99.99px;fill:#000000\" text-anchor=\"middle\">2000</text>\n",
       "\t<line x1=\"2231.34\" y1=\"2233.63\" x2=\"2231.34\" y2=\"2273.73\" style=\"stroke:#000000;stroke-width:5.76\"/>\n",
       "\t<text x=\"2231.34\" y=\"2363.59\" style=\"font-family:'Helvetica';font-size:99.99px;fill:#000000\" text-anchor=\"middle\">2005</text>\n",
       "\t<line x1=\"3795.66\" y1=\"2233.63\" x2=\"3795.66\" y2=\"2273.73\" style=\"stroke:#000000;stroke-width:5.76\"/>\n",
       "\t<text x=\"3795.66\" y=\"2363.59\" style=\"font-family:'Helvetica';font-size:99.99px;fill:#000000\" text-anchor=\"middle\">2010</text>\n",
       "\t<text x=\"2074.92\" y=\"2473.60\" style=\"font-family:'Helvetica';font-size:99.99px;fill:#000000\" text-anchor=\"middle\">Year</text>\n",
       "\t<rect x=\"598.08\" y=\"2558.24\" width=\"2953.67\" height=\"186.37\" style=\"fill:#FFFFFF\"/>\n",
       "\t<rect x=\"600.96\" y=\"2561.12\" width=\"2947.91\" height=\"180.61\" style=\"fill:none;stroke:#000000;stroke-width:5.76\"/>\n",
       "\t<line x1=\"641.27\" y1=\"2651.43\" x2=\"1015.74\" y2=\"2651.43\" style=\"stroke:#1A476F;stroke-width:8.64\"/>\n",
       "\t<line x1=\"2144.96\" y1=\"2651.43\" x2=\"2519.30\" y2=\"2651.43\" style=\"stroke:#90353B;stroke-width:8.64\"/>\n",
       "\t<text x=\"1075.76\" y=\"2686.46\" style=\"font-family:'Helvetica';font-size:99.99px;fill:#000000\">0 age_adjusted_rate</text>\n",
       "\t<text x=\"2579.32\" y=\"2686.46\" style=\"font-family:'Helvetica';font-size:99.99px;fill:#000000\">1 age_adjusted_rate</text>\n",
       "</svg>"
      ],
      "text/plain": [
       "<IPython.core.display.SVG object>"
      ]
     },
     "metadata": {},
     "output_type": "display_data"
    }
   ],
   "source": [
    "%%stata\n",
    "egen withlaw=max( medical_cannabis_law), by(state_id)\n",
    "gen nolaw= withlaw==0\n",
    "collapse (mean) age_adjusted_rate, by(year nolaw)\n",
    "reshape wide age_adjusted_rate, i(year) j( nolaw)\n",
    "tsline age_adjusted_rate0 if year<=2010 || tsline age_adjusted_rate1 if year<=2010"
   ]
  },
  {
   "cell_type": "code",
   "execution_count": null,
   "id": "8e441b3a",
   "metadata": {},
   "outputs": [],
   "source": []
  }
 ],
 "metadata": {
  "kernelspec": {
   "display_name": "Python 3 (ipykernel)",
   "language": "python",
   "name": "python3"
  },
  "language_info": {
   "codemirror_mode": {
    "name": "ipython",
    "version": 3
   },
   "file_extension": ".py",
   "mimetype": "text/x-python",
   "name": "python",
   "nbconvert_exporter": "python",
   "pygments_lexer": "ipython3",
   "version": "3.9.7"
  }
 },
 "nbformat": 4,
 "nbformat_minor": 5
}
